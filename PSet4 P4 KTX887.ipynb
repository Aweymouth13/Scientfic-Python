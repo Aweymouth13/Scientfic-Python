{
 "cells": [
  {
   "cell_type": "code",
   "execution_count": 89,
   "outputs": [],
   "source": [
    "#Homework set 4, problem 4\n",
    "#Aaron Weymouth\n",
    "#KTX887\n",
    "import sympy as sp\n",
    "\n",
    "\n"
   ],
   "metadata": {
    "collapsed": false,
    "ExecuteTime": {
     "end_time": "2024-10-16T18:21:34.498144100Z",
     "start_time": "2024-10-16T18:21:34.480825100Z"
    }
   },
   "id": "d1f8a566996be17"
  },
  {
   "cell_type": "markdown",
   "source": [
    "## Question 4\n",
    "Consider a model of a relativistic jet motivated by Blandford and Znajek (1977). The jet is stationary (meaning there is no change over time) and comprises a helical magnetic field threading the horizon of a black hole at its base, extending symmetrically in a paraboloid shape proportional to z. Moreover, let’s assume the jet is self-similar in that at every value of xi (which is defined as s squared divided by z), the jet velocity, electric, and magnetic fields are determined by the magnetic flux Phi(s,z) threading the surface of the paraboloid jet and the angular speed of field lines Omega(s,z) as they emerge from the location of the horizon.\n",
    "\n",
    "### a.)\n",
    "Find the (infinitesimal) contribution dPhi to magnetic flux at constant s through the area 2*pi*s*dz and use it to find Bs in terms of Phi. \n",
    "\n",
    "**HINT:** The partial derivative of a function f(x, y) with respect to x is the derivative of f while holding y constant. Use a similar strategy to find Bz in terms of Phi.\n",
    "\n",
    "### b.)\n",
    "Use Ampere’s law (in integral form) to find Bphi, assuming the current within an Amperean loop of radius s is I. Check that the divergence of the magnetic field B in cylindrical coordinates is 0 for this self-similar jet. \n",
    "\n",
    "**HINT:** You may want to use a numerical solver such as Mathematica to compute the divergence. Include the output of your code.\n",
    "\n",
    "### c.)\n",
    "Ohm’s law, expressed as E + v cross B = eta*j, has zero resistivity eta in ideal MHD. Use this form of Ohm’s law and the fact that the component of v perpendicular to B is v_perp = Omega cross r to express E in terms of Omega in ideal MHD.\n",
    "\n",
    "### d.)\n",
    "Use Ampere’s law (in differential form) to compute j = (js, jphi, jz). \n",
    "\n",
    "**HINT:** You may want to use a numerical solver such as Mathematica to compute any curls.\n",
    "\n",
    "### e.)\n",
    "Find a differential equation for I(xi) by expanding rho*E + j cross B to first order in z/xi. \n",
    "\n",
    "**HINT:** You may use a numerical solver.\n"
   ],
   "metadata": {
    "collapsed": false
   },
   "id": "4f0a6efc40041e46"
  },
  {
   "cell_type": "code",
   "execution_count": 90,
   "outputs": [
    {
     "name": "stdout",
     "output_type": "stream",
     "text": [
      "The value for B_s is:\n"
     ]
    },
    {
     "data": {
      "text/plain": "Derivative(Phi(s, z), z)/(2*pi*s)",
      "text/latex": "$\\displaystyle \\frac{\\frac{\\partial}{\\partial z} \\Phi{\\left(s,z \\right)}}{2 \\pi s}$"
     },
     "metadata": {},
     "output_type": "display_data"
    },
    {
     "name": "stdout",
     "output_type": "stream",
     "text": [
      "The value for B_z is:\n"
     ]
    },
    {
     "data": {
      "text/plain": "Derivative(Phi(s, z), s)/(2*pi*s)",
      "text/latex": "$\\displaystyle \\frac{\\frac{\\partial}{\\partial s} \\Phi{\\left(s,z \\right)}}{2 \\pi s}$"
     },
     "metadata": {},
     "output_type": "display_data"
    }
   ],
   "source": [
    "#Part A\n",
    "#symbols\n",
    "s, z = sp.symbols('s z')\n",
    "Phi = sp.Function('Phi')(s, z)\n",
    "\n",
    "#differential element volume\n",
    "dA_s = 2 * sp.pi * s * sp.symbols('dz')  #area element in s-direction (2pi s dz)\n",
    "dA_z = 2 * sp.pi * s * sp.symbols('ds')  #area element in z-direction (2pi s ds)\n",
    "\n",
    "#def flux through surface\n",
    "dPhi_s = sp.symbols('Bs') * dA_s\n",
    "dPhi_z = sp.symbols('Bz') * dA_z\n",
    "\n",
    "#solve for Bs in terms of Phi(s, z)\n",
    "Bs = (1 / (2 * sp.pi * s)) * sp.diff(Phi, z)\n",
    "Bz = (1 / (2 * sp.pi * s)) * sp.diff(Phi, s)\n",
    "\n",
    "#display\n",
    "print('The value for B_s is:')\n",
    "display(Bs)\n",
    "print('The value for B_z is:')\n",
    "display(Bz)"
   ],
   "metadata": {
    "collapsed": false,
    "ExecuteTime": {
     "end_time": "2024-10-16T18:21:34.509631100Z",
     "start_time": "2024-10-16T18:21:34.483733100Z"
    }
   },
   "id": "2c39d9b3fd173015"
  },
  {
   "cell_type": "code",
   "execution_count": 91,
   "outputs": [
    {
     "name": "stdout",
     "output_type": "stream",
     "text": [
      "B_phi is : \n"
     ]
    },
    {
     "data": {
      "text/plain": "mu_0*I(s)/(2*pi*s)",
      "text/latex": "$\\displaystyle \\frac{\\mu_{0} I{\\left(s \\right)}}{2 \\pi s}$"
     },
     "metadata": {},
     "output_type": "display_data"
    },
    {
     "name": "stdout",
     "output_type": "stream",
     "text": [
      "The divergence of B is : \n",
      "Derivative(Phi(s, z), s, z)/(pi*s)\n"
     ]
    }
   ],
   "source": [
    "import sympy as sp\n",
    "\n",
    "# Define variables\n",
    "s, z, mu_0 = sp.symbols('s z mu_0')\n",
    "I_s = sp.Function('I')(s)  # Define I(s) as a function of s\n",
    "\n",
    "# Ampere's Law in integral form to solve for B_phi\n",
    "B_phi = (mu_0 * I_s) / (2 * sp.pi * s)\n",
    "\n",
    "# Define the magnetic field components\n",
    "Phi = sp.Function('Phi')(s, z)\n",
    "B_s = (1 / (2 * sp.pi * s)) * sp.diff(Phi, z)\n",
    "B_z = (1 / (2 * sp.pi * s)) * sp.diff(Phi, s)\n",
    "\n",
    "# Calculate divergence of B\n",
    "div_B = (1/s) * sp.diff(s * B_s, s) + sp.diff(B_z, z)\n",
    "\n",
    "# Display results\n",
    "print('B_phi is : ')\n",
    "display(B_phi)\n",
    "print('The divergence of B is : ')\n",
    "print(div_B.simplify())\n"
   ],
   "metadata": {
    "collapsed": false,
    "ExecuteTime": {
     "end_time": "2024-10-16T18:21:34.509631100Z",
     "start_time": "2024-10-16T18:21:34.493611800Z"
    }
   },
   "id": "cd7c5713d5979554"
  },
  {
   "cell_type": "code",
   "execution_count": 92,
   "outputs": [
    {
     "data": {
      "text/plain": "Derivative(Phi(s, z), s, z)/(pi*s)",
      "text/latex": "$\\displaystyle \\frac{\\frac{\\partial^{2}}{\\partial z\\partial s} \\Phi{\\left(s,z \\right)}}{\\pi s}$"
     },
     "execution_count": 92,
     "metadata": {},
     "output_type": "execute_result"
    }
   ],
   "source": [
    "import sympy as sp\n",
    "\n",
    "# Define variables\n",
    "s, z, mu_0, I = sp.symbols('s z mu_0 I')\n",
    "\n",
    "# Ampere's Law in integral form to solve for B_phi\n",
    "B_phi = (mu_0 * I) / (2 * sp.pi * s)\n",
    "\n",
    "# Define the magnetic field components\n",
    "Phi = sp.Function('Phi')(s, z)\n",
    "B_s = (1 / (2 * sp.pi * s)) * sp.diff(Phi, z)\n",
    "B_z = (1 / (2 * sp.pi * s)) * sp.diff(Phi, s)\n",
    "\n",
    "# Calculate divergence of B\n",
    "div_B = (1/s) * sp.diff(s * B_s, s) + sp.diff(B_z, z)\n",
    "\n",
    "# Display results\n",
    "div_B.simplify()\n"
   ],
   "metadata": {
    "collapsed": false,
    "ExecuteTime": {
     "end_time": "2024-10-16T18:21:34.531449200Z",
     "start_time": "2024-10-16T18:21:34.503044500Z"
    }
   },
   "id": "927fd155b7aa5d52"
  },
  {
   "cell_type": "code",
   "execution_count": 93,
   "outputs": [
    {
     "name": "stdout",
     "output_type": "stream",
     "text": [
      "The divergence of B is : \n"
     ]
    },
    {
     "data": {
      "text/plain": "Derivative(Phi(s, z), s, z)/(pi*s)",
      "text/latex": "$\\displaystyle \\frac{\\frac{\\partial^{2}}{\\partial z\\partial s} \\Phi{\\left(s,z \\right)}}{\\pi s}$"
     },
     "metadata": {},
     "output_type": "display_data"
    },
    {
     "name": "stdout",
     "output_type": "stream",
     "text": [
      "\n",
      "For divergence to be zero, the following mixed partial derivative must be zero:\n"
     ]
    },
    {
     "data": {
      "text/plain": "Derivative(Phi(s, z), s, z)",
      "text/latex": "$\\displaystyle \\frac{\\partial^{2}}{\\partial z\\partial s} \\Phi{\\left(s,z \\right)}$"
     },
     "metadata": {},
     "output_type": "display_data"
    },
    {
     "name": "stdout",
     "output_type": "stream",
     "text": [
      "\n",
      "Substitute Phi(s, z) = s**2 + z**2:\n"
     ]
    },
    {
     "data": {
      "text/plain": "0",
      "text/latex": "$\\displaystyle 0$"
     },
     "metadata": {},
     "output_type": "display_data"
    }
   ],
   "source": [
    "#problem 4 part b\n",
    "s, z = sp.symbols('s z')\n",
    "\n",
    "#define Phi(s, z) as a function of s and z\n",
    "Phi = sp.Function('Phi')(s, z)\n",
    "\n",
    "#magnetic field components\n",
    "B_s = (1 / (2 * sp.pi * s)) * sp.diff(Phi, z)  #Bs \n",
    "B_z = (1 / (2 * sp.pi * s)) * sp.diff(Phi, s)  #Bz \n",
    "\n",
    "#calculate div in cylindrical\n",
    "div_B = (1/s) * sp.diff(s * B_s, s) + sp.diff(B_z, z)\n",
    "\n",
    "#simplify\n",
    "div_B_simplified = div_B.simplify()\n",
    "\n",
    "#show div\n",
    "print('The divergence of B is : ')\n",
    "display(div_B_simplified)\n",
    "\n",
    "#check if the divergence simplifies to show that mixed partial derivative must be zero\n",
    "mixed_partial = sp.diff(Phi, s, z)  #this is the second mixed partial derivative of Phi\n",
    "\n",
    "print('\\nFor divergence to be zero, the following mixed partial derivative must be zero:')\n",
    "display(mixed_partial)\n",
    "\n",
    "#subsitute a simple phi(s,z) to show it vanishes.\n",
    "Phi_sub = s**2 + z**2  #example function\n",
    "div_B_sub = div_B.subs(Phi, Phi_sub).simplify()\n",
    "\n",
    "print('\\nSubstitute Phi(s, z) = s**2 + z**2:')\n",
    "display(div_B_sub)\n"
   ],
   "metadata": {
    "collapsed": false,
    "ExecuteTime": {
     "end_time": "2024-10-16T18:21:34.534417100Z",
     "start_time": "2024-10-16T18:21:34.509631100Z"
    }
   },
   "id": "ac2e2218574031ef"
  },
  {
   "cell_type": "code",
   "execution_count": 94,
   "outputs": [
    {
     "data": {
      "text/plain": "Matrix([\n[B_x*(Omega_x*r_x + Omega_y*r_y + Omega_z*r_z) - r_x*(B_x*Omega_x + B_y*Omega_y + B_z*Omega_z)],\n[B_y*(Omega_x*r_x + Omega_y*r_y + Omega_z*r_z) - r_y*(B_x*Omega_x + B_y*Omega_y + B_z*Omega_z)],\n[B_z*(Omega_x*r_x + Omega_y*r_y + Omega_z*r_z) - r_z*(B_x*Omega_x + B_y*Omega_y + B_z*Omega_z)]])",
      "text/latex": "$\\displaystyle \\left[\\begin{matrix}B_{x} \\left(\\Omega_{x} r_{x} + \\Omega_{y} r_{y} + \\Omega_{z} r_{z}\\right) - r_{x} \\left(B_{x} \\Omega_{x} + B_{y} \\Omega_{y} + B_{z} \\Omega_{z}\\right)\\\\B_{y} \\left(\\Omega_{x} r_{x} + \\Omega_{y} r_{y} + \\Omega_{z} r_{z}\\right) - r_{y} \\left(B_{x} \\Omega_{x} + B_{y} \\Omega_{y} + B_{z} \\Omega_{z}\\right)\\\\B_{z} \\left(\\Omega_{x} r_{x} + \\Omega_{y} r_{y} + \\Omega_{z} r_{z}\\right) - r_{z} \\left(B_{x} \\Omega_{x} + B_{y} \\Omega_{y} + B_{z} \\Omega_{z}\\right)\\end{matrix}\\right]$"
     },
     "execution_count": 94,
     "metadata": {},
     "output_type": "execute_result"
    }
   ],
   "source": [
    "#Part C\n",
    "#vector symbols\n",
    "Omega_x, Omega_y, Omega_z = sp.symbols('Omega_x Omega_y Omega_z')\n",
    "r_x, r_y, r_z = sp.symbols('r_x r_y r_z')\n",
    "B_x, B_y, B_z = sp.symbols('B_x B_y B_z')\n",
    "\n",
    "#vectors\n",
    "Omega = sp.Matrix([Omega_x, Omega_y, Omega_z])  # Angular velocity\n",
    "r = sp.Matrix([r_x, r_y, r_z])  # Radial vector\n",
    "B = sp.Matrix([B_x, B_y, B_z])  # Magnetic field\n",
    "\n",
    "#dots\n",
    "Omega_dot_B = Omega.dot(B)\n",
    "Omega_dot_r = Omega.dot(r)\n",
    "\n",
    "#cross for v_perp = Omega x r\n",
    "v_perp = Omega.cross(r)\n",
    "\n",
    "#ohm in ideal MHD: E = - (v_perp x B)\n",
    "E_vector = -v_perp.cross(B)\n",
    "\n",
    "#simplify/factor\n",
    "E_simplified = -(Omega_dot_B * r - Omega_dot_r * B)\n",
    "E_simplified\n"
   ],
   "metadata": {
    "collapsed": false,
    "ExecuteTime": {
     "end_time": "2024-10-16T18:21:34.544116700Z",
     "start_time": "2024-10-16T18:21:34.534417100Z"
    }
   },
   "id": "f476a8e3559b979e"
  },
  {
   "cell_type": "code",
   "execution_count": 95,
   "outputs": [
    {
     "data": {
      "text/plain": "Matrix([\n[                                                                                                                             0],\n[(-Derivative(Phi(s, z), (s, 2))/(2*pi*s) + Derivative(Phi(s, z), (z, 2))/(2*pi*s) + Derivative(Phi(s, z), s)/(2*pi*s**2))/mu_0],\n[                                                                                                  Derivative(I(s), s)/(2*pi*s)]])",
      "text/latex": "$\\displaystyle \\left[\\begin{matrix}0\\\\\\frac{- \\frac{\\frac{\\partial^{2}}{\\partial s^{2}} \\Phi{\\left(s,z \\right)}}{2 \\pi s} + \\frac{\\frac{\\partial^{2}}{\\partial z^{2}} \\Phi{\\left(s,z \\right)}}{2 \\pi s} + \\frac{\\frac{\\partial}{\\partial s} \\Phi{\\left(s,z \\right)}}{2 \\pi s^{2}}}{\\mu_{0}}\\\\\\frac{\\frac{d}{d s} I{\\left(s \\right)}}{2 \\pi s}\\end{matrix}\\right]$"
     },
     "metadata": {},
     "output_type": "display_data"
    }
   ],
   "source": [
    "#part D\n",
    "\n",
    "#vars\n",
    "s, z, mu_0 = sp.symbols('s z mu_0')\n",
    "Phi = sp.Function('Phi')(s, z)\n",
    "I = sp.Function('I')(s)\n",
    "\n",
    "#mag field components\n",
    "B_s = (1 / (2 * sp.pi * s)) * sp.diff(Phi, z)\n",
    "B_phi = (mu_0 * I) / (2 * sp.pi * s)\n",
    "B_z = (1 / (2 * sp.pi * s)) * sp.diff(Phi, s)\n",
    "\n",
    "#b in cylindrical\n",
    "B = sp.Matrix([B_s, B_phi, B_z])\n",
    "\n",
    "#curl b compute\n",
    "curl_B = sp.Matrix([\n",
    "    (1/s) * sp.diff(s*B_z, sp.symbols('phi')) - sp.diff(B_phi, z),\n",
    "    sp.diff(B_s, z) - sp.diff(B_z, s),\n",
    "    (1/s) * sp.diff(s*B_phi, s)\n",
    "])\n",
    "\n",
    "#current density j = (1/mu_0) * curl(B)\n",
    "j = (1 / mu_0) * curl_B\n",
    "\n",
    "#show\n",
    "display(j)\n"
   ],
   "metadata": {
    "collapsed": false,
    "ExecuteTime": {
     "end_time": "2024-10-16T18:21:34.570880600Z",
     "start_time": "2024-10-16T18:21:34.543116400Z"
    }
   },
   "id": "18c538810dd08740"
  },
  {
   "cell_type": "code",
   "execution_count": 96,
   "outputs": [
    {
     "data": {
      "text/plain": "Matrix([\n[-B_phi*j_z + B_z*j_phi + E_s*rho(s)],\n[             B_s*j_z + E_phi*rho(s)],\n[            -B_s*j_phi + E_z*rho(s)]])",
      "text/latex": "$\\displaystyle \\left[\\begin{matrix}- B_{\\phi} j_{z} + B_{z} j_{\\phi} + E_{s} \\rho{\\left(s \\right)}\\\\B_{s} j_{z} + E_{\\phi} \\rho{\\left(s \\right)}\\\\- B_{s} j_{\\phi} + E_{z} \\rho{\\left(s \\right)}\\end{matrix}\\right]$"
     },
     "execution_count": 96,
     "metadata": {},
     "output_type": "execute_result"
    }
   ],
   "source": [
    "#part E\n",
    "\"\"\"\n",
    "Asked to find diffeq for current where xi is s**2/z. Expand roh E + jxB to first order..small approximation. \n",
    "We know rohE is charge density time electric field and jxB is cross of current density and mag.\n",
    "\"\"\"\n",
    "\n",
    "# Define variables\n",
    "s, z, xi, mu_0 = sp.symbols('s z xi mu_0')\n",
    "rho, I = sp.symbols('rho I', cls=sp.Function)  # Charge density and current\n",
    "Phi = sp.Function('Phi')(s, z)  # Magnetic flux\n",
    "B_s, B_phi, B_z = sp.symbols('B_s B_phi B_z')  # Magnetic field components\n",
    "j_phi, j_z = sp.symbols('j_phi j_z')  # Current density components\n",
    "E_s, E_phi, E_z = sp.symbols('E_s E_phi E_z')  # Electric field components\n",
    "\n",
    "# Define B and j as vectors\n",
    "B = sp.Matrix([B_s, B_phi, B_z])\n",
    "j = sp.Matrix([0, j_phi, j_z])\n",
    "\n",
    "# Define the electric field vector\n",
    "E = sp.Matrix([E_s, E_phi, E_z])\n",
    "\n",
    "# Expression for rho * E + j x B\n",
    "expression = rho(s) * E + j.cross(B)\n",
    "\n",
    "# Expand each component of the matrix to first order in z/xi\n",
    "expansion = expression.applyfunc(lambda expr: expr.subs(s**2/z, xi).series(z/xi, n=2))\n",
    "\n",
    "# Simplify the expansion\n",
    "simplified_expansion = expansion.applyfunc(lambda expr: expr.simplify())\n",
    "\n",
    "simplified_expansion"
   ],
   "metadata": {
    "collapsed": false,
    "ExecuteTime": {
     "end_time": "2024-10-16T18:21:34.595151800Z",
     "start_time": "2024-10-16T18:21:34.551130800Z"
    }
   },
   "id": "3af91b1ba013a91b"
  },
  {
   "cell_type": "markdown",
   "source": [
    "## Expanded Expression\n",
    "\n",
    "The expansion of rho E + j * B  to first order in \\( z/ξ \\) as shown above\n",
    "\n",
    "### First Row: \n",
    "- **-B_phi j_z + B_z j_phi + E_s rho(s)**\n",
    "\n",
    "Only component in the s dir (radial/cylindrical\n",
    "\n",
    "- **-B_phi j_z**: force density cross B_phi and axial J_z.\n",
    "\n",
    "- **B_z j_phi**: force density from B_z with current density from azimuthal j_phi. radial force makes sense\n",
    "\n",
    "- **E_s rho(s)**: cleary electric field in s multiplied by charge density coloumb force acting radially.\n",
    "\n",
    "### Second Row: \n",
    "- **B_s j_z + E_phi rho(s)**\n",
    "\n",
    "Component of expression in phi/azimuthal\n",
    "\n",
    "- **B_s j_z**: interaction of radial magnetic B_s and axial current dens. j_z\n",
    "\n",
    "- **E_phi rho(s)**: azimuth electric field by charge density -- electric force in azimuth dir\n",
    "\n",
    "### Third Row: \n",
    "- **-B_s j_phi + E_z rho(s)**\n",
    "\n",
    "resultant of z dir/axial\n",
    "\n",
    "- **-B_s j_phi**: force generated by interaction of B_s and j_phi axial force made. Lorentz??\n",
    "\n",
    "- **E_z rho(s)**: clearly the coulomb force along z\n",
    "\n",
    "### Overall\n",
    "\n",
    "Yep pretty much makes perfect sense. Looking at it by direction:\n",
    "\n",
    "- **Radial (s) direction**: influence by axial/azimuthal mag field and radial e field\n",
    "- **Azimuthal (phi) direction**: influenced by radial mag and azimuth e-field\n",
    "- **Axial (z) direction**: radial magnetic and axial electric field\n"
   ],
   "metadata": {
    "collapsed": false
   },
   "id": "de367754e0c01d33"
  },
  {
   "cell_type": "code",
   "execution_count": 97,
   "outputs": [
    {
     "data": {
      "text/plain": "Matrix([\n[-B_phi*I(xi)/xi + B_z*Derivative(I(xi), xi) + E_s*rho(s)],\n[                             B_s*I(xi)/xi + E_phi*rho(s)],\n[                 -B_s*Derivative(I(xi), xi) + E_z*rho(s)]])",
      "text/latex": "$\\displaystyle \\left[\\begin{matrix}- \\frac{B_{\\phi} I{\\left(\\xi \\right)}}{\\xi} + B_{z} \\frac{d}{d \\xi} I{\\left(\\xi \\right)} + E_{s} \\rho{\\left(s \\right)}\\\\\\frac{B_{s} I{\\left(\\xi \\right)}}{\\xi} + E_{\\phi} \\rho{\\left(s \\right)}\\\\- B_{s} \\frac{d}{d \\xi} I{\\left(\\xi \\right)} + E_{z} \\rho{\\left(s \\right)}\\end{matrix}\\right]$"
     },
     "execution_count": 97,
     "metadata": {},
     "output_type": "execute_result"
    }
   ],
   "source": [
    "#unsure on if this is what you're asking but i'm going to make up an I(xi) that relates current density to j_phi and j_z\n",
    "# Redefine the current density components j_phi and j_z in terms of I(xi)\n",
    "\n",
    "I_xi = sp.Function('I')(xi)\n",
    "\n",
    "#j_phi and j_z are related to the derivative of I w/respect to xi\n",
    "j_phi = sp.diff(I_xi, xi)\n",
    "j_z = I_xi / xi\n",
    "\n",
    "#sub in\n",
    "new_expression = simplified_expansion.subs({sp.symbols('j_phi'): j_phi, sp.symbols('j_z'): j_z})\n",
    "\n",
    "#simplify\n",
    "new_expression_simplified = new_expression.applyfunc(lambda expr: expr.simplify())\n",
    "\n",
    "# Now let's isolate the terms and find the differential equation governing I(xi)\n",
    "new_expression_simplified\n"
   ],
   "metadata": {
    "collapsed": false,
    "ExecuteTime": {
     "end_time": "2024-10-16T18:21:34.628650100Z",
     "start_time": "2024-10-16T18:21:34.570880600Z"
    }
   },
   "id": "38194ce0bf74ea33"
  },
  {
   "cell_type": "code",
   "execution_count": 98,
   "outputs": [
    {
     "data": {
      "text/plain": "-B_phi*I(xi)/xi + B_z*Derivative(I(xi), xi) + E_s*rho(s)",
      "text/latex": "$\\displaystyle - \\frac{B_{\\phi} I{\\left(\\xi \\right)}}{\\xi} + B_{z} \\frac{d}{d \\xi} I{\\left(\\xi \\right)} + E_{s} \\rho{\\left(s \\right)}$"
     },
     "metadata": {},
     "output_type": "display_data"
    },
    {
     "data": {
      "text/plain": "B_s*I(xi)/xi + E_phi*rho(s)",
      "text/latex": "$\\displaystyle \\frac{B_{s} I{\\left(\\xi \\right)}}{\\xi} + E_{\\phi} \\rho{\\left(s \\right)}$"
     },
     "metadata": {},
     "output_type": "display_data"
    },
    {
     "data": {
      "text/plain": "-B_s*Derivative(I(xi), xi) + E_z*rho(s)",
      "text/latex": "$\\displaystyle - B_{s} \\frac{d}{d \\xi} I{\\left(\\xi \\right)} + E_{z} \\rho{\\left(s \\right)}$"
     },
     "metadata": {},
     "output_type": "display_data"
    }
   ],
   "source": [
    "#0,0 and 2,0\n",
    "eq_1 = new_expression_simplified[0, 0]\n",
    "eq_2 = new_expression_simplified[1, 0]\n",
    "eq_3 = new_expression_simplified[2, 0]\n",
    "\n",
    "\n",
    "display(eq_1, eq_2, eq_3)\n"
   ],
   "metadata": {
    "collapsed": false,
    "ExecuteTime": {
     "end_time": "2024-10-16T18:21:34.629774300Z",
     "start_time": "2024-10-16T18:21:34.598682200Z"
    }
   },
   "id": "f1b41263b79070bf"
  },
  {
   "cell_type": "code",
   "execution_count": 99,
   "outputs": [
    {
     "data": {
      "text/plain": "Eq(I(xi), (C1*(B_phi - B_z)*exp(B_phi*log(xi)/B_z) + E_s*xi*rho(s))/(B_phi - B_z))",
      "text/latex": "$\\displaystyle I{\\left(\\xi \\right)} = \\frac{C_{1} \\left(B_{\\phi} - B_{z}\\right) e^{\\frac{B_{\\phi} \\log{\\left(\\xi \\right)}}{B_{z}}} + E_{s} \\xi \\rho{\\left(s \\right)}}{B_{\\phi} - B_{z}}$"
     },
     "metadata": {},
     "output_type": "display_data"
    },
    {
     "data": {
      "text/plain": "Eq(I(xi), C1 + E_z*xi*rho(s)/B_s)",
      "text/latex": "$\\displaystyle I{\\left(\\xi \\right)} = C_{1} + \\frac{E_{z} \\xi \\rho{\\left(s \\right)}}{B_{s}}$"
     },
     "metadata": {},
     "output_type": "display_data"
    }
   ],
   "source": [
    "#solve for I(xi)\n",
    "sol_1 = sp.dsolve(eq_1, I_xi)\n",
    "\n",
    "#solve for I(xi)\n",
    "sol_3 = sp.dsolve(eq_3, I_xi)\n",
    "\n",
    "#general solution\n",
    "display(sol_1, sol_3)\n"
   ],
   "metadata": {
    "collapsed": false,
    "ExecuteTime": {
     "end_time": "2024-10-16T18:21:34.846121200Z",
     "start_time": "2024-10-16T18:21:34.602995800Z"
    }
   },
   "id": "b098649eccd7cec1"
  },
  {
   "cell_type": "code",
   "execution_count": 99,
   "outputs": [],
   "source": [],
   "metadata": {
    "collapsed": false,
    "ExecuteTime": {
     "end_time": "2024-10-16T18:21:34.853260200Z",
     "start_time": "2024-10-16T18:21:34.846121200Z"
    }
   },
   "id": "10c36a60b6ef6873"
  }
 ],
 "metadata": {
  "kernelspec": {
   "display_name": "Python 3",
   "language": "python",
   "name": "python3"
  },
  "language_info": {
   "codemirror_mode": {
    "name": "ipython",
    "version": 2
   },
   "file_extension": ".py",
   "mimetype": "text/x-python",
   "name": "python",
   "nbconvert_exporter": "python",
   "pygments_lexer": "ipython2",
   "version": "2.7.6"
  }
 },
 "nbformat": 4,
 "nbformat_minor": 5
}
